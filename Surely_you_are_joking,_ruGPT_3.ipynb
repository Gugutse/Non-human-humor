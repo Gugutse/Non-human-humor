{
 "cells": [
  {
   "cell_type": "code",
   "execution_count": 1,
   "metadata": {
    "colab": {
     "base_uri": "https://localhost:8080/"
    },
    "id": "il-IQ1A4UJgP",
    "outputId": "3e5132d8-d6e8-4c15-e8df-24e53bfe2a4e"
   },
   "outputs": [
    {
     "name": "stdout",
     "output_type": "stream",
     "text": [
      "Collecting transformers==4.2.2\n",
      "  Using cached transformers-4.2.2-py3-none-any.whl (1.8 MB)\n",
      "Requirement already satisfied: importlib-metadata in /home/user/conda/lib/python3.7/site-packages (from transformers==4.2.2) (3.7.3)\n",
      "Collecting sacremoses\n",
      "  Using cached sacremoses-0.0.45-py3-none-any.whl (895 kB)\n",
      "Collecting tokenizers==0.9.4\n",
      "  Using cached tokenizers-0.9.4-cp37-cp37m-manylinux2010_x86_64.whl (2.9 MB)\n",
      "Requirement already satisfied: packaging in /home/user/conda/lib/python3.7/site-packages (from transformers==4.2.2) (20.9)\n",
      "Requirement already satisfied: requests in /home/user/conda/lib/python3.7/site-packages (from transformers==4.2.2) (2.25.1)\n",
      "Collecting filelock\n",
      "  Using cached filelock-3.0.12-py3-none-any.whl (7.6 kB)\n",
      "Requirement already satisfied: tqdm>=4.27 in /home/user/conda/lib/python3.7/site-packages (from transformers==4.2.2) (4.59.0)\n",
      "Requirement already satisfied: numpy in /home/user/conda/lib/python3.7/site-packages (from transformers==4.2.2) (1.18.5)\n",
      "Requirement already satisfied: regex!=2019.12.17 in /home/user/conda/lib/python3.7/site-packages (from transformers==4.2.2) (2021.3.17)\n",
      "Requirement already satisfied: typing-extensions>=3.6.4 in /home/user/conda/lib/python3.7/site-packages (from importlib-metadata->transformers==4.2.2) (3.7.4.3)\n",
      "Requirement already satisfied: zipp>=0.5 in /home/user/conda/lib/python3.7/site-packages (from importlib-metadata->transformers==4.2.2) (3.4.1)\n",
      "Requirement already satisfied: pyparsing>=2.0.2 in /home/user/conda/lib/python3.7/site-packages (from packaging->transformers==4.2.2) (2.4.7)\n",
      "Requirement already satisfied: certifi>=2017.4.17 in /home/user/conda/lib/python3.7/site-packages (from requests->transformers==4.2.2) (2020.12.5)\n",
      "Requirement already satisfied: chardet<5,>=3.0.2 in /home/user/conda/lib/python3.7/site-packages (from requests->transformers==4.2.2) (4.0.0)\n",
      "Requirement already satisfied: urllib3<1.27,>=1.21.1 in /home/user/conda/lib/python3.7/site-packages (from requests->transformers==4.2.2) (1.26.4)\n",
      "Requirement already satisfied: idna<3,>=2.5 in /home/user/conda/lib/python3.7/site-packages (from requests->transformers==4.2.2) (2.10)\n",
      "Requirement already satisfied: six in /home/user/conda/lib/python3.7/site-packages (from sacremoses->transformers==4.2.2) (1.15.0)\n",
      "Requirement already satisfied: joblib in /home/user/conda/lib/python3.7/site-packages (from sacremoses->transformers==4.2.2) (1.0.1)\n",
      "Requirement already satisfied: click in /home/user/conda/lib/python3.7/site-packages (from sacremoses->transformers==4.2.2) (7.1.2)\n",
      "Installing collected packages: tokenizers, sacremoses, filelock, transformers\n",
      "Successfully installed filelock-3.0.12 sacremoses-0.0.45 tokenizers-0.9.4 transformers-4.2.2\n"
     ]
    }
   ],
   "source": [
    "!pip install transformers'==4.2.2'"
   ]
  },
  {
   "cell_type": "code",
   "execution_count": 1,
   "metadata": {},
   "outputs": [],
   "source": [
    "#!pip install seaborn"
   ]
  },
  {
   "cell_type": "code",
   "execution_count": 2,
   "metadata": {
    "id": "_fFHWKDEoIuk"
   },
   "outputs": [
    {
     "name": "stderr",
     "output_type": "stream",
     "text": [
      "[nltk_data] Downloading package punkt to /home/jovyan/nltk_data...\n",
      "[nltk_data]   Package punkt is already up-to-date!\n"
     ]
    },
    {
     "data": {
      "text/plain": [
       "True"
      ]
     },
     "execution_count": 2,
     "metadata": {},
     "output_type": "execute_result"
    }
   ],
   "source": [
    "import torch\n",
    "from transformers import (\n",
    "    GPT2Tokenizer, GPT2LMHeadModel, TextDataset, LineByLineTextDataset,\n",
    "    DataCollatorForLanguageModeling, TrainingArguments, Trainer, get_cosine_schedule_with_warmup\n",
    ")\n",
    "\n",
    "import matplotlib.pyplot as plt\n",
    "%matplotlib inline\n",
    "\n",
    "import json\n",
    "import numpy as np\n",
    "import seaborn as sns\n",
    "\n",
    "import nltk\n",
    "nltk.download('punkt')\n"
   ]
  },
  {
   "cell_type": "code",
   "execution_count": 3,
   "metadata": {
    "id": "4V30dDc6wn07"
   },
   "outputs": [
    {
     "name": "stdout",
     "output_type": "stream",
     "text": [
      "Tue Apr 20 18:59:23 2021       \n",
      "+-----------------------------------------------------------------------------+\n",
      "| NVIDIA-SMI 410.129      Driver Version: 410.129      CUDA Version: 10.1     |\n",
      "|-------------------------------+----------------------+----------------------+\n",
      "| GPU  Name        Persistence-M| Bus-Id        Disp.A | Volatile Uncorr. ECC |\n",
      "| Fan  Temp  Perf  Pwr:Usage/Cap|         Memory-Usage | GPU-Util  Compute M. |\n",
      "|===============================+======================+======================|\n",
      "|   0  Tesla V100-SXM3...  On   | 00000000:E5:00.0 Off |                    0 |\n",
      "| N/A   45C    P0    85W / 350W |      0MiB / 32480MiB |      0%      Default |\n",
      "+-------------------------------+----------------------+----------------------+\n",
      "                                                                               \n",
      "+-----------------------------------------------------------------------------+\n",
      "| Processes:                                                       GPU Memory |\n",
      "|  GPU       PID   Type   Process name                             Usage      |\n",
      "|=============================================================================|\n",
      "|  No running processes found                                                 |\n",
      "+-----------------------------------------------------------------------------+\n"
     ]
    }
   ],
   "source": [
    "!nvidia-smi"
   ]
  },
  {
   "cell_type": "markdown",
   "metadata": {
    "id": "85eRBUkcieFG"
   },
   "source": [
    "# Подготовка обучающих данных\n",
    "\n"
   ]
  },
  {
   "cell_type": "code",
   "execution_count": 4,
   "metadata": {
    "id": "emb1iE_Fop43"
   },
   "outputs": [],
   "source": [
    "data_path = 'jokes.json'\n",
    "with open(data_path, 'r') as f:\n",
    "    data = json.loads(f.read())"
   ]
  },
  {
   "cell_type": "markdown",
   "metadata": {
    "id": "8M-o4aFDT_LZ"
   },
   "source": [
    "Можно ввести дополнительные теги, которые после дообучения помогут модели понять, какой текст мы хотим от неё получить. Например, пусть каждая наша шутка будет начинаться с тега \\<joke>, а заканчиваться -- тегом \\<end> (в ruGPT-3 large не использовался тег \\<|endoftext|> во время обучения)"
   ]
  },
  {
   "cell_type": "code",
   "execution_count": 5,
   "metadata": {
    "id": "UMkS1bNwSPQ5"
   },
   "outputs": [],
   "source": [
    "processed = list()\n",
    "\n",
    "for joke in data:\n",
    "    pr_joke = '<joke> ' + joke + ' <end>'\n",
    "    processed.append(pr_joke)\n",
    "\n",
    "processed = ' '.join(processed)"
   ]
  },
  {
   "cell_type": "code",
   "execution_count": 7,
   "metadata": {
    "id": "kENNH0EhTdAk"
   },
   "outputs": [],
   "source": [
    "train_data_path = 'jokes.txt'\n",
    "with open(train_data_path, 'w') as t:\n",
    "    t.write(processed)"
   ]
  },
  {
   "cell_type": "markdown",
   "metadata": {
    "id": "iaZubIYcqCPo"
   },
   "source": [
    "Хорошая практика -- оценивать длину обучающих текстов, чтобы подобрать верные параметры предобработки. Мы уже знаем, что в нашем случае тексты имеют небольшой объём. И хотя стандартная токенизация, которую мы сейчас будем использовать, отличается от BPE-токенизации модели GPT, она все равно даст нам приблизительное представление."
   ]
  },
  {
   "cell_type": "code",
   "execution_count": 8,
   "metadata": {
    "colab": {
     "base_uri": "https://localhost:8080/",
     "height": 336
    },
    "id": "1jQHUuNpiwNl",
    "outputId": "25fefc79-9446-4042-ec99-047a09f42a69"
   },
   "outputs": [
    {
     "name": "stderr",
     "output_type": "stream",
     "text": [
      "/home/user/conda/lib/python3.7/site-packages/seaborn/distributions.py:2557: FutureWarning: `distplot` is a deprecated function and will be removed in a future version. Please adapt your code to use either `displot` (a figure-level function with similar flexibility) or `histplot` (an axes-level function for histograms).\n",
      "  warnings.warn(msg, FutureWarning)\n"
     ]
    },
    {
     "data": {
      "text/plain": [
       "<AxesSubplot:ylabel='Density'>"
      ]
     },
     "execution_count": 8,
     "metadata": {},
     "output_type": "execute_result"
    },
    {
     "data": {
      "image/png": "[encoded data removed]",
      "text/plain": [
       "<Figure size 432x288 with 1 Axes>"
      ]
     },
     "metadata": {
      "needs_background": "light"
     },
     "output_type": "display_data"
    }
   ],
   "source": [
    "jokes_lengths = []\n",
    "\n",
    "for joke in data:\n",
    "\n",
    "    tokens = nltk.word_tokenize(joke, language=\"russian\")\n",
    "    jokes_lengths.append(len(tokens))\n",
    "\n",
    "jokes_lengths = np.array(jokes_lengths)\n",
    "\n",
    "sns.distplot(jokes_lengths)"
   ]
  },
  {
   "cell_type": "code",
   "execution_count": 9,
   "metadata": {
    "colab": {
     "base_uri": "https://localhost:8080/"
    },
    "id": "Wrrwvi4rj6If",
    "outputId": "a9c246c4-3047-49eb-ff01-44e6adf001af"
   },
   "outputs": [
    {
     "data": {
      "text/plain": [
       "17.7787"
      ]
     },
     "execution_count": 9,
     "metadata": {},
     "output_type": "execute_result"
    }
   ],
   "source": [
    "np.average(jokes_lengths) "
   ]
  },
  {
   "cell_type": "markdown",
   "metadata": {
    "id": "Y1S4cjsQnLxG"
   },
   "source": [
    "# Токенизация\n",
    "\n",
    "Загружаем токенизатор ruGPT-3 из библиотеки transformers. При загрузке токенизатора можно указывать значения некоторых специальных токенов. Для чего это нужно? Для того, чтобы токенизатор не разделял каждый из введённых нами тегов на отдельные токены, а обрабатывал их как цельные."
   ]
  },
  {
   "cell_type": "code",
   "execution_count": 10,
   "metadata": {
    "id": "xg0HHhFFRX6k"
   },
   "outputs": [],
   "source": [
    "bos_token = '<joke>'\n",
    "eos_token = '<end>'"
   ]
  },
  {
   "cell_type": "code",
   "execution_count": 11,
   "metadata": {
    "colab": {
     "base_uri": "https://localhost:8080/",
     "height": 230,
     "referenced_widgets": [
      "2f298bb69c184b75ad711de9fdf76961",
      "4129d63322204bb587d3fc9fdec8095e",
      "9168e86bb84246bfad6500b7909d1ef8",
      "e0895aab64ef4eaca7de82646a4a3f36",
      "d38b8c9c7b414d2ead73cdfc18afb730",
      "da7d103d439d4b67aafde0a958b1bf72",
      "4339669b85d34bba9ea9f86fbc3d4679",
      "5af6edad62c24dd088e0694ad7a58dd9",
      "9c5ce918b01141199afa3ec9dc057f06",
      "cac18c25d30e47c3b81eca3d9878ded9",
      "9676a6c0f05048878aee5d7f10f7abec",
      "362dd7ae18b94aefa19126c96d0ab225",
      "914ec57ab14940a7b11d9ddf76282e88",
      "e4e1c82b4d814535a5366ff6b125fac6",
      "af7643f05e124c26a31234a0d98ff372",
      "3eeb4aa59d834e4e92a8614287dd6393",
      "173a0d1cac0f420daeb9afc420cc84ed",
      "07310db7a7114a208a72508fcf392166",
      "53879c0490094613a78e570ebdede084",
      "d7dfe14b6bca4272a4cf9d10b09c5d27",
      "4d8344f52c1a42ca90cd90f420e8c353",
      "2df833a39ace440ebfbef19729cbbeb3",
      "c146c9842b154b4f83c4ba5ff63940b4",
      "ff1553cae3b84bf59535e808c73a3904",
      "886aa824c8d349f0b1c5e9ba407a11bb",
      "ddc59cc4a4834660a4f166a261596a8c",
      "d499286aa96a489f9f05d2c660e216d4",
      "198195fe79284367a20fd206742719b9",
      "f5ff72b233994b90b857f52afa3f4d9c",
      "a6600b1cf9bc4455bfb7bbdc99346957",
      "0de17771a47e4776b484ae75e7b9aebc",
      "891acbbfc30841d09a79513dfc9100a7"
     ]
    },
    "id": "mkJPniCBUpqQ",
    "outputId": "efbdbbb2-26ee-4ab0-9eaa-9d8882e7a568"
   },
   "outputs": [
    {
     "name": "stderr",
     "output_type": "stream",
     "text": [
      "Special tokens have been added in the vocabulary, make sure the associated word embedding are fine-tuned or trained.\n"
     ]
    }
   ],
   "source": [
    "tokenizer = GPT2Tokenizer.from_pretrained(\"sberbank-ai/rugpt3large_based_on_gpt2\", bos_token=bos_token, eos_token=eos_token, pad_token='<|pad|>')"
   ]
  },
  {
   "cell_type": "markdown",
   "metadata": {
    "id": "wYzXhhDwsfxj"
   },
   "source": [
    "Свои кастомизированные специальные токены можно добавлять и таким способом:"
   ]
  },
  {
   "cell_type": "code",
   "execution_count": null,
   "metadata": {
    "id": "TtLrGEIAsXEG"
   },
   "outputs": [],
   "source": [
    "# special_tokens_dict = {'eos_token': '<end>', 'additional_special_tokens': ['<ask:love>']}\n",
    "# tokenizer.add_special_tokens(special_tokens_dict)"
   ]
  },
  {
   "cell_type": "code",
   "execution_count": 12,
   "metadata": {
    "id": "G0f_ff-ls-d1"
   },
   "outputs": [
    {
     "name": "stdout",
     "output_type": "stream",
     "text": [
      "У начального токена последовательности <joke> id имеет номер 50257\n",
      "У конечного токена последовательности <end> id имеет номер 50258\n"
     ]
    }
   ],
   "source": [
    "print(\"У начального токена последовательности {} id имеет номер {}\".format(tokenizer.convert_ids_to_tokens(tokenizer.bos_token_id), tokenizer.bos_token_id))\n",
    "print(\"У конечного токена последовательности {} id имеет номер {}\".format(tokenizer.convert_ids_to_tokens(tokenizer.eos_token_id), tokenizer.eos_token_id))"
   ]
  },
  {
   "cell_type": "markdown",
   "metadata": {
    "id": "Ye9s_PHHtpVA"
   },
   "source": [
    "Преобразовать данные для обучения можно с помощью TextDataset или LineByLineTextDataset: первый, получив на вход путь к файлу, читает данные полностью, токенизирует их и делит на блоки длины block_size; второй же каждую строку файла читает отдельно (то есть каждый текст должен начинаться с новой строки), токенизирует её и обрезает до длины block_size. Вы можете выбрать, какой из этих подходов лучше соответствует вашим данным."
   ]
  },
  {
   "cell_type": "code",
   "execution_count": 13,
   "metadata": {
    "id": "j8FItmRBWSxS"
   },
   "outputs": [],
   "source": [
    "block_size = 256"
   ]
  },
  {
   "cell_type": "code",
   "execution_count": 14,
   "metadata": {
    "id": "jb4j8jmzvOc1"
   },
   "outputs": [
    {
     "name": "stderr",
     "output_type": "stream",
     "text": [
      "/home/user/conda/lib/python3.7/site-packages/transformers/data/datasets/language_modeling.py:58: FutureWarning: This dataset will be removed from the library soon, preprocessing should be handled with the 🤗 Datasets library. You can have a look at this example script for pointers: https://github.com/huggingface/transformers/blob/master/examples/language-modeling/run_mlm.py\n",
      "  FutureWarning,\n"
     ]
    }
   ],
   "source": [
    "train_dataset = TextDataset(tokenizer=tokenizer, file_path=train_data_path, block_size=block_size, overwrite_cache=True)"
   ]
  },
  {
   "cell_type": "code",
   "execution_count": null,
   "metadata": {
    "id": "hpa63ehOvWFX"
   },
   "outputs": [],
   "source": [
    "# train_dataset_lbl = LineByLineTextDataset(tokenizer=tokenizer, file_path=data_path, block_size=window_size)"
   ]
  },
  {
   "cell_type": "markdown",
   "metadata": {
    "id": "_O_n3PzynV_Q"
   },
   "source": [
    "# Дообучение модели ruGPT-3\n",
    "\n",
    "Загружаем модель ruGPT-3 large. Это русскоязычная модель на основе архитектуры OpenAI, которая была разработана и обучена командами SberDevices, SberAI и SberCloud на более чем 600 Гб открытых данных википедии, художественной литературе, диалогах, программном коде."
   ]
  },
  {
   "cell_type": "code",
   "execution_count": 15,
   "metadata": {
    "id": "bf3jNlt6r-WK"
   },
   "outputs": [],
   "source": [
    "model = GPT2LMHeadModel.from_pretrained(\"sberbank-ai/rugpt3large_based_on_gpt2\")"
   ]
  },
  {
   "cell_type": "markdown",
   "metadata": {
    "id": "D0ew5DJSycQx"
   },
   "source": [
    "В модели должно быть столько эмбеддингов, сколько токенов в токенизаторе -- так как мы добавили свои теги-токены, делаем resize_token_embeddings:"
   ]
  },
  {
   "cell_type": "code",
   "execution_count": 16,
   "metadata": {
    "colab": {
     "base_uri": "https://localhost:8080/"
    },
    "id": "BZ84KrfeVTLJ",
    "outputId": "b5d5f673-d19f-46b7-8232-99ff6a0eabb1"
   },
   "outputs": [
    {
     "data": {
      "text/plain": [
       "Embedding(50260, 1536)"
      ]
     },
     "execution_count": 16,
     "metadata": {},
     "output_type": "execute_result"
    }
   ],
   "source": [
    "model.resize_token_embeddings(len(tokenizer))"
   ]
  },
  {
   "cell_type": "markdown",
   "metadata": {
    "id": "UtCI4W4WDcPI"
   },
   "source": [
    "Задаём параметры обучения:"
   ]
  },
  {
   "cell_type": "code",
   "execution_count": 17,
   "metadata": {
    "id": "9Nou2PgYEKJr"
   },
   "outputs": [],
   "source": [
    "learning_rate = 2e-5\n",
    "batch_size = 2\n",
    "num_epochs = 4"
   ]
  },
  {
   "cell_type": "markdown",
   "metadata": {
    "id": "Dao2jQQIEMBw"
   },
   "source": [
    "Количество эпох не стоит делать большим (оптимально -- 3-5), иначе модель переобучится."
   ]
  },
  {
   "cell_type": "code",
   "execution_count": 18,
   "metadata": {
    "id": "-zyz1nIHbsrd"
   },
   "outputs": [],
   "source": [
    "data_collator = DataCollatorForLanguageModeling(tokenizer=tokenizer, mlm=False)\n",
    "\n",
    "seed = 567\n",
    "training_args = TrainingArguments(\n",
    "    output_dir='jokes_output',\n",
    "    overwrite_output_dir=True,\n",
    "    do_train=True,\n",
    "    num_train_epochs=num_epochs,\n",
    "    per_device_train_batch_size=batch_size,\n",
    "    prediction_loss_only=True,\n",
    "    logging_steps=100,\n",
    "    load_best_model_at_end=True,\n",
    "    #save_steps=300,\n",
    "    seed=seed,\n",
    "    learning_rate=learning_rate\n",
    ")"
   ]
  },
  {
   "cell_type": "markdown",
   "metadata": {},
   "source": [
    "Класс Trainer библиотеки transformers (для которого мы только что определили TrainingArguments) в большинстве случаев отлично подходит для организации цикла обучения и оценки качества (параметр evaluate): он прост и оптимизирован для работы с предобученными моделями transformers:"
   ]
  },
  {
   "cell_type": "code",
   "execution_count": 19,
   "metadata": {
    "id": "76wLGGclb1cQ"
   },
   "outputs": [],
   "source": [
    "trainer = Trainer(\n",
    "    model=model,\n",
    "    tokenizer=tokenizer,\n",
    "    args=training_args,\n",
    "    data_collator=data_collator,\n",
    "    train_dataset=train_dataset\n",
    ")\n",
    "\n",
    "train_dataloader = trainer.get_train_dataloader()\n",
    "num_train_steps = len(train_dataloader) * num_epochs\n",
    "trainer.create_optimizer_and_scheduler(num_train_steps) #по дефолту в качестве оптимизатора используется AdamW;\n",
    "                                                        #если вы хотите изменить оптимизатор и/или scheduler, \n",
    "                                                        #можно либо передать кортеж, содержащий оптимизатор и  \n",
    "                                                        #scheduler в init класса Trainer через параметр optimizers,\n",
    "                                                        #либо создать подкласс и переопределить этот метод в \n",
    "                                                        #подклассе\n",
    "trainer.lr_scheduler = get_cosine_schedule_with_warmup(\n",
    "    trainer.optimizer,\n",
    "    num_warmup_steps=num_train_steps//10,\n",
    "    num_training_steps=num_train_steps\n",
    ")"
   ]
  },
  {
   "cell_type": "markdown",
   "metadata": {
    "id": "bSdoqrdNDune"
   },
   "source": [
    "Заводим!"
   ]
  },
  {
   "cell_type": "code",
   "execution_count": 20,
   "metadata": {
    "colab": {
     "base_uri": "https://localhost:8080/",
     "height": 324
    },
    "id": "Pq5ZPdE1b8c9",
    "outputId": "0ce5a4a9-343b-42b1-a6df-72bb6f272c24"
   },
   "outputs": [
    {
     "name": "stderr",
     "output_type": "stream",
     "text": [
      "/home/user/conda/lib/python3.7/site-packages/ipykernel/ipkernel.py:283: DeprecationWarning: `should_run_async` will not call `transform_cell` automatically in the future. Please pass the result to `transformed_cell` argument and any exception that happen during thetransform in `preprocessing_exc_tuple` in IPython 7.17 and above.\n",
      "  and should_run_async(code)\n"
     ]
    },
    {
     "data": {
      "text/html": [
       "\n",
       "    <div>\n",
       "        <style>\n",
       "            /* Turns off some styling */\n",
       "            progress {\n",
       "                /* gets rid of default border in Firefox and Opera. */\n",
       "                border: none;\n",
       "                /* Needs to be in here for Safari polyfill so background images work as expected. */\n",
       "                background-size: auto;\n",
       "            }\n",
       "        </style>\n",
       "      \n",
       "      <progress value='1521' max='1521' style='width:300px; height:20px; vertical-align: middle;'></progress>\n",
       "      [1521/1521 08:00, Epoch 3/3]\n",
       "    </div>\n",
       "    <table border=\"1\" class=\"dataframe\">\n",
       "  <thead>\n",
       "    <tr style=\"text-align: left;\">\n",
       "      <th>Step</th>\n",
       "      <th>Training Loss</th>\n",
       "    </tr>\n",
       "  </thead>\n",
       "  <tbody>\n",
       "    <tr>\n",
       "      <td>100</td>\n",
       "      <td>4.408300</td>\n",
       "    </tr>\n",
       "    <tr>\n",
       "      <td>200</td>\n",
       "      <td>3.064000</td>\n",
       "    </tr>\n",
       "    <tr>\n",
       "      <td>300</td>\n",
       "      <td>3.034000</td>\n",
       "    </tr>\n",
       "    <tr>\n",
       "      <td>400</td>\n",
       "      <td>3.014200</td>\n",
       "    </tr>\n",
       "    <tr>\n",
       "      <td>500</td>\n",
       "      <td>2.992000</td>\n",
       "    </tr>\n",
       "    <tr>\n",
       "      <td>600</td>\n",
       "      <td>2.694400</td>\n",
       "    </tr>\n",
       "    <tr>\n",
       "      <td>700</td>\n",
       "      <td>2.680700</td>\n",
       "    </tr>\n",
       "    <tr>\n",
       "      <td>800</td>\n",
       "      <td>2.686300</td>\n",
       "    </tr>\n",
       "    <tr>\n",
       "      <td>900</td>\n",
       "      <td>2.676100</td>\n",
       "    </tr>\n",
       "    <tr>\n",
       "      <td>1000</td>\n",
       "      <td>2.693800</td>\n",
       "    </tr>\n",
       "    <tr>\n",
       "      <td>1100</td>\n",
       "      <td>2.492400</td>\n",
       "    </tr>\n",
       "    <tr>\n",
       "      <td>1200</td>\n",
       "      <td>2.491100</td>\n",
       "    </tr>\n",
       "    <tr>\n",
       "      <td>1300</td>\n",
       "      <td>2.428400</td>\n",
       "    </tr>\n",
       "    <tr>\n",
       "      <td>1400</td>\n",
       "      <td>2.477500</td>\n",
       "    </tr>\n",
       "    <tr>\n",
       "      <td>1500</td>\n",
       "      <td>2.451400</td>\n",
       "    </tr>\n",
       "  </tbody>\n",
       "</table><p>"
      ],
      "text/plain": [
       "<IPython.core.display.HTML object>"
      ]
     },
     "metadata": {},
     "output_type": "display_data"
    },
    {
     "data": {
      "text/plain": [
       "TrainOutput(global_step=1521, training_loss=2.813168454844257, metrics={'train_runtime': 482.5065, 'train_samples_per_second': 3.152, 'total_flos': 3549029070274560, 'epoch': 3.0})"
      ]
     },
     "execution_count": 20,
     "metadata": {},
     "output_type": "execute_result"
    }
   ],
   "source": [
    "trainer.train()"
   ]
  },
  {
   "cell_type": "markdown",
   "metadata": {
    "id": "kgT-Z-wGFj8O"
   },
   "source": [
    "# Сохраняем и загружаем дообученную модель"
   ]
  },
  {
   "cell_type": "code",
   "execution_count": null,
   "metadata": {
    "id": "_gFW1bS5Fr3U"
   },
   "outputs": [],
   "source": [
    "output_dir = 'jokes_rugpt3'\n",
    "\n",
    "model.save_pretrained(output_dir)\n",
    "tokenizer.save_pretrained(output_dir)"
   ]
  },
  {
   "cell_type": "code",
   "execution_count": null,
   "metadata": {
    "id": "pv196lJeI9Mq"
   },
   "outputs": [],
   "source": [
    "# Загружаем дообученную модель и словарь\n",
    "\n",
    "# model = GPT2LMHeadModel.from_pretrained(output_dir)\n",
    "# tokenizer = GPT2Tokenizer.from_pretrained(output_dir)\n",
    "# model.to(device)"
   ]
  },
  {
   "cell_type": "markdown",
   "metadata": {
    "id": "tYcS6UTnE6Gu"
   },
   "source": [
    "# Генерация текста\n",
    "\n",
    "При генерации текстов возможно варьировать следующие параметры:\n",
    "\n",
    "\n",
    "* *temperature* — параметр сглаживания; чем выше, тем сильнее сглаживание вероятностного распределения токенов при предсказании\n",
    "* *top_k* — техника сэмплирования: сортировка предсказаний каждого следующего слова по вероятностям и отсекание вариантов после k-го токена\n",
    "* *top_p* — техника сэмплирования: сортировка предсказаний каждого следующего слова по вероятностям и отсекание вариантов, как только суммарная вероятность предыдущих токенов превысит p\n",
    "* *max_length* — максимальная длина генерируемого текста\n",
    "* *repetition_penalty* — «штрафование» слов, которые уже были сгенерированы или относятся к исходной фразе\n",
    "* *num_return_sequences* - количество вариантов последовательностей, которые вернёт модель\n",
    "\n",
    "В блоге Hugging Face есть отличная [статья](https://huggingface.co/blog/how-to-generate), в которой подробно объясняется суть многих параметров генерации.\n",
    "\n",
    "В качестве \"затравки\" для нашей дообученной модели подаём тег \\<joke>: модель выучила, что после него следует юмористический контент"
   ]
  },
  {
   "cell_type": "code",
   "execution_count": 43,
   "metadata": {},
   "outputs": [],
   "source": [
    "def generate(prompt):\n",
    "\n",
    "    model.eval()\n",
    "\n",
    "    input_ids = tokenizer.encode(prompt, return_tensors='pt')\n",
    "    input_ids = input_ids.to('cuda') #переносим инпут на GPU, где находится наша модель\n",
    "\n",
    "    eos_id = tokenizer.encode(eos_token)[0]\n",
    "\n",
    "    sample_outputs = model.generate(\n",
    "        input_ids, \n",
    "        max_length=120, \n",
    "        do_sample=True, \n",
    "        top_k=50,\n",
    "        top_p=0.92, \n",
    "        temperature=0.75,\n",
    "        eos_token_id=eos_id,\n",
    "        num_return_sequences=3\n",
    "        )\n",
    "    for i, sample_output in enumerate(sample_outputs):\n",
    "          print(\"{}: {}\\n\\n\".format(i+1, tokenizer.decode(sample_output, skip_special_tokens=True)))"
   ]
  },
  {
   "cell_type": "code",
   "execution_count": 39,
   "metadata": {
    "id": "Y5P1mTqHKqvc"
   },
   "outputs": [
    {
     "name": "stderr",
     "output_type": "stream",
     "text": [
      "Setting `pad_token_id` to `eos_token_id`:50258 for open-end generation.\n"
     ]
    },
    {
     "name": "stdout",
     "output_type": "stream",
     "text": [
      "1: \n",
      " Вы можете быть добрым, отзывчивым и нежным человеком, но если вы не нажмете на \"Нравится\" в соц. сетях, то никто этого не увидит. \n",
      "\n",
      "\n",
      "2:  На работе как на войне. Вроде бы и есть люди, но как-то не по себе. \n",
      "\n",
      "\n",
      "3: \n",
      " \"Блин, я сегодня весь день ничего не ел\" — это когда тебе уже все равно, что есть, а ты все равно ничего не ешь. \n",
      "\n",
      "\n"
     ]
    }
   ],
   "source": [
    "prompt = '<joke>'\n",
    "\n",
    "generate(prompt)"
   ]
  },
  {
   "cell_type": "code",
   "execution_count": 42,
   "metadata": {},
   "outputs": [
    {
     "name": "stderr",
     "output_type": "stream",
     "text": [
      "Setting `pad_token_id` to `eos_token_id`:50258 for open-end generation.\n"
     ]
    },
    {
     "name": "stdout",
     "output_type": "stream",
     "text": [
      "1:   Если у девушки на ногах сорок первый размер, значит, она ещё не созрела для отношений. \n",
      "\n",
      "\n",
      "2:   Мы так долго ждали этого момента, что он наступил. \n",
      "\n",
      "\n",
      "3:   Я всегда завидовал людям, которые не знают, что значит \"Не пиши левой рукой\", и пишут правой. \n",
      "\n",
      "\n"
     ]
    }
   ],
   "source": [
    "generate(prompt)"
   ]
  },
  {
   "cell_type": "code",
   "execution_count": 53,
   "metadata": {},
   "outputs": [
    {
     "name": "stderr",
     "output_type": "stream",
     "text": [
      "Setting `pad_token_id` to `eos_token_id`:50258 for open-end generation.\n"
     ]
    },
    {
     "name": "stdout",
     "output_type": "stream",
     "text": [
      "1:   Если вы не можете понять, как работает телевизор, попробуйте найти на нём кнопку «Хочу спать». \n",
      "\n",
      "\n",
      "2:   Пришла весна, а с ней и похмелье. \n",
      "\n",
      "\n",
      "3:   У меня в жизни было много всего плохого, но, пожалуй, самая большая ошибка в моей жизни произошла в тот день, когда я в первый раз пошел в универ. \n",
      "\n",
      "\n"
     ]
    }
   ],
   "source": [
    "generate(prompt)"
   ]
  }
 ],
 "metadata": {
  "accelerator": "GPU",
  "colab": {
   "collapsed_sections": [],
   "name": "Surely you're joking, ruGPT-3.ipynb",
   "provenance": []
  },
  "kernelspec": {
   "display_name": "Python 3",
   "language": "python",
   "name": "python3"
  },
  "language_info": {
   "codemirror_mode": {
    "name": "ipython",
    "version": 3
   },
   "file_extension": ".py",
   "mimetype": "text/x-python",
   "name": "python",
   "nbconvert_exporter": "python",
   "pygments_lexer": "ipython3",
   "version": "3.7.10"
  },
  "widgets": {
   "application/vnd.jupyter.widget-state+json": {
    "07310db7a7114a208a72508fcf392166": {
     "model_module": "@jupyter-widgets/base",
     "model_name": "LayoutModel",
     "state": {
      "_model_module": "@jupyter-widgets/base",
      "_model_module_version": "1.2.0",
      "_model_name": "LayoutModel",
      "_view_count": null,
      "_view_module": "@jupyter-widgets/base",
      "_view_module_version": "1.2.0",
      "_view_name": "LayoutView",
      "align_content": null,
      "align_items": null,
      "align_self": null,
      "border": null,
      "bottom": null,
      "display": null,
      "flex": null,
      "flex_flow": null,
      "grid_area": null,
      "grid_auto_columns": null,
      "grid_auto_flow": null,
      "grid_auto_rows": null,
      "grid_column": null,
      "grid_gap": null,
      "grid_row": null,
      "grid_template_areas": null,
      "grid_template_columns": null,
      "grid_template_rows": null,
      "height": null,
      "justify_content": null,
      "justify_items": null,
      "left": null,
      "margin": null,
      "max_height": null,
      "max_width": null,
      "min_height": null,
      "min_width": null,
      "object_fit": null,
      "object_position": null,
      "order": null,
      "overflow": null,
      "overflow_x": null,
      "overflow_y": null,
      "padding": null,
      "right": null,
      "top": null,
      "visibility": null,
      "width": null
     }
    },
    "0de17771a47e4776b484ae75e7b9aebc": {
     "model_module": "@jupyter-widgets/controls",
     "model_name": "DescriptionStyleModel",
     "state": {
      "_model_module": "@jupyter-widgets/controls",
      "_model_module_version": "1.5.0",
      "_model_name": "DescriptionStyleModel",
      "_view_count": null,
      "_view_module": "@jupyter-widgets/base",
      "_view_module_version": "1.2.0",
      "_view_name": "StyleView",
      "description_width": ""
     }
    },
    "173a0d1cac0f420daeb9afc420cc84ed": {
     "model_module": "@jupyter-widgets/controls",
     "model_name": "HBoxModel",
     "state": {
      "_dom_classes": [],
      "_model_module": "@jupyter-widgets/controls",
      "_model_module_version": "1.5.0",
      "_model_name": "HBoxModel",
      "_view_count": null,
      "_view_module": "@jupyter-widgets/controls",
      "_view_module_version": "1.5.0",
      "_view_name": "HBoxView",
      "box_style": "",
      "children": [
       "IPY_MODEL_53879c0490094613a78e570ebdede084",
       "IPY_MODEL_d7dfe14b6bca4272a4cf9d10b09c5d27"
      ],
      "layout": "IPY_MODEL_07310db7a7114a208a72508fcf392166"
     }
    },
    "198195fe79284367a20fd206742719b9": {
     "model_module": "@jupyter-widgets/controls",
     "model_name": "HTMLModel",
     "state": {
      "_dom_classes": [],
      "_model_module": "@jupyter-widgets/controls",
      "_model_module_version": "1.5.0",
      "_model_name": "HTMLModel",
      "_view_count": null,
      "_view_module": "@jupyter-widgets/controls",
      "_view_module_version": "1.5.0",
      "_view_name": "HTMLView",
      "description": "",
      "description_tooltip": null,
      "layout": "IPY_MODEL_891acbbfc30841d09a79513dfc9100a7",
      "placeholder": "​",
      "style": "IPY_MODEL_0de17771a47e4776b484ae75e7b9aebc",
      "value": " 3.14G/3.14G [01:55&lt;00:00, 27.2MB/s]"
     }
    },
    "2df833a39ace440ebfbef19729cbbeb3": {
     "model_module": "@jupyter-widgets/base",
     "model_name": "LayoutModel",
     "state": {
      "_model_module": "@jupyter-widgets/base",
      "_model_module_version": "1.2.0",
      "_model_name": "LayoutModel",
      "_view_count": null,
      "_view_module": "@jupyter-widgets/base",
      "_view_module_version": "1.2.0",
      "_view_name": "LayoutView",
      "align_content": null,
      "align_items": null,
      "align_self": null,
      "border": null,
      "bottom": null,
      "display": null,
      "flex": null,
      "flex_flow": null,
      "grid_area": null,
      "grid_auto_columns": null,
      "grid_auto_flow": null,
      "grid_auto_rows": null,
      "grid_column": null,
      "grid_gap": null,
      "grid_row": null,
      "grid_template_areas": null,
      "grid_template_columns": null,
      "grid_template_rows": null,
      "height": null,
      "justify_content": null,
      "justify_items": null,
      "left": null,
      "margin": null,
      "max_height": null,
      "max_width": null,
      "min_height": null,
      "min_width": null,
      "object_fit": null,
      "object_position": null,
      "order": null,
      "overflow": null,
      "overflow_x": null,
      "overflow_y": null,
      "padding": null,
      "right": null,
      "top": null,
      "visibility": null,
      "width": null
     }
    },
    "2f298bb69c184b75ad711de9fdf76961": {
     "model_module": "@jupyter-widgets/controls",
     "model_name": "HBoxModel",
     "state": {
      "_dom_classes": [],
      "_model_module": "@jupyter-widgets/controls",
      "_model_module_version": "1.5.0",
      "_model_name": "HBoxModel",
      "_view_count": null,
      "_view_module": "@jupyter-widgets/controls",
      "_view_module_version": "1.5.0",
      "_view_name": "HBoxView",
      "box_style": "",
      "children": [
       "IPY_MODEL_9168e86bb84246bfad6500b7909d1ef8",
       "IPY_MODEL_e0895aab64ef4eaca7de82646a4a3f36"
      ],
      "layout": "IPY_MODEL_4129d63322204bb587d3fc9fdec8095e"
     }
    },
    "362dd7ae18b94aefa19126c96d0ab225": {
     "model_module": "@jupyter-widgets/controls",
     "model_name": "HTMLModel",
     "state": {
      "_dom_classes": [],
      "_model_module": "@jupyter-widgets/controls",
      "_model_module_version": "1.5.0",
      "_model_name": "HTMLModel",
      "_view_count": null,
      "_view_module": "@jupyter-widgets/controls",
      "_view_module_version": "1.5.0",
      "_view_name": "HTMLView",
      "description": "",
      "description_tooltip": null,
      "layout": "IPY_MODEL_3eeb4aa59d834e4e92a8614287dd6393",
      "placeholder": "​",
      "style": "IPY_MODEL_af7643f05e124c26a31234a0d98ff372",
      "value": " 1.27M/1.27M [00:01&lt;00:00, 794kB/s]"
     }
    },
    "3eeb4aa59d834e4e92a8614287dd6393": {
     "model_module": "@jupyter-widgets/base",
     "model_name": "LayoutModel",
     "state": {
      "_model_module": "@jupyter-widgets/base",
      "_model_module_version": "1.2.0",
      "_model_name": "LayoutModel",
      "_view_count": null,
      "_view_module": "@jupyter-widgets/base",
      "_view_module_version": "1.2.0",
      "_view_name": "LayoutView",
      "align_content": null,
      "align_items": null,
      "align_self": null,
      "border": null,
      "bottom": null,
      "display": null,
      "flex": null,
      "flex_flow": null,
      "grid_area": null,
      "grid_auto_columns": null,
      "grid_auto_flow": null,
      "grid_auto_rows": null,
      "grid_column": null,
      "grid_gap": null,
      "grid_row": null,
      "grid_template_areas": null,
      "grid_template_columns": null,
      "grid_template_rows": null,
      "height": null,
      "justify_content": null,
      "justify_items": null,
      "left": null,
      "margin": null,
      "max_height": null,
      "max_width": null,
      "min_height": null,
      "min_width": null,
      "object_fit": null,
      "object_position": null,
      "order": null,
      "overflow": null,
      "overflow_x": null,
      "overflow_y": null,
      "padding": null,
      "right": null,
      "top": null,
      "visibility": null,
      "width": null
     }
    },
    "4129d63322204bb587d3fc9fdec8095e": {
     "model_module": "@jupyter-widgets/base",
     "model_name": "LayoutModel",
     "state": {
      "_model_module": "@jupyter-widgets/base",
      "_model_module_version": "1.2.0",
      "_model_name": "LayoutModel",
      "_view_count": null,
      "_view_module": "@jupyter-widgets/base",
      "_view_module_version": "1.2.0",
      "_view_name": "LayoutView",
      "align_content": null,
      "align_items": null,
      "align_self": null,
      "border": null,
      "bottom": null,
      "display": null,
      "flex": null,
      "flex_flow": null,
      "grid_area": null,
      "grid_auto_columns": null,
      "grid_auto_flow": null,
      "grid_auto_rows": null,
      "grid_column": null,
      "grid_gap": null,
      "grid_row": null,
      "grid_template_areas": null,
      "grid_template_columns": null,
      "grid_template_rows": null,
      "height": null,
      "justify_content": null,
      "justify_items": null,
      "left": null,
      "margin": null,
      "max_height": null,
      "max_width": null,
      "min_height": null,
      "min_width": null,
      "object_fit": null,
      "object_position": null,
      "order": null,
      "overflow": null,
      "overflow_x": null,
      "overflow_y": null,
      "padding": null,
      "right": null,
      "top": null,
      "visibility": null,
      "width": null
     }
    },
    "4339669b85d34bba9ea9f86fbc3d4679": {
     "model_module": "@jupyter-widgets/controls",
     "model_name": "DescriptionStyleModel",
     "state": {
      "_model_module": "@jupyter-widgets/controls",
      "_model_module_version": "1.5.0",
      "_model_name": "DescriptionStyleModel",
      "_view_count": null,
      "_view_module": "@jupyter-widgets/base",
      "_view_module_version": "1.2.0",
      "_view_name": "StyleView",
      "description_width": ""
     }
    },
    "4d8344f52c1a42ca90cd90f420e8c353": {
     "model_module": "@jupyter-widgets/controls",
     "model_name": "ProgressStyleModel",
     "state": {
      "_model_module": "@jupyter-widgets/controls",
      "_model_module_version": "1.5.0",
      "_model_name": "ProgressStyleModel",
      "_view_count": null,
      "_view_module": "@jupyter-widgets/base",
      "_view_module_version": "1.2.0",
      "_view_name": "StyleView",
      "bar_color": null,
      "description_width": "initial"
     }
    },
    "53879c0490094613a78e570ebdede084": {
     "model_module": "@jupyter-widgets/controls",
     "model_name": "FloatProgressModel",
     "state": {
      "_dom_classes": [],
      "_model_module": "@jupyter-widgets/controls",
      "_model_module_version": "1.5.0",
      "_model_name": "FloatProgressModel",
      "_view_count": null,
      "_view_module": "@jupyter-widgets/controls",
      "_view_module_version": "1.5.0",
      "_view_name": "ProgressView",
      "bar_style": "success",
      "description": "Downloading: 100%",
      "description_tooltip": null,
      "layout": "IPY_MODEL_2df833a39ace440ebfbef19729cbbeb3",
      "max": 609,
      "min": 0,
      "orientation": "horizontal",
      "style": "IPY_MODEL_4d8344f52c1a42ca90cd90f420e8c353",
      "value": 609
     }
    },
    "5af6edad62c24dd088e0694ad7a58dd9": {
     "model_module": "@jupyter-widgets/base",
     "model_name": "LayoutModel",
     "state": {
      "_model_module": "@jupyter-widgets/base",
      "_model_module_version": "1.2.0",
      "_model_name": "LayoutModel",
      "_view_count": null,
      "_view_module": "@jupyter-widgets/base",
      "_view_module_version": "1.2.0",
      "_view_name": "LayoutView",
      "align_content": null,
      "align_items": null,
      "align_self": null,
      "border": null,
      "bottom": null,
      "display": null,
      "flex": null,
      "flex_flow": null,
      "grid_area": null,
      "grid_auto_columns": null,
      "grid_auto_flow": null,
      "grid_auto_rows": null,
      "grid_column": null,
      "grid_gap": null,
      "grid_row": null,
      "grid_template_areas": null,
      "grid_template_columns": null,
      "grid_template_rows": null,
      "height": null,
      "justify_content": null,
      "justify_items": null,
      "left": null,
      "margin": null,
      "max_height": null,
      "max_width": null,
      "min_height": null,
      "min_width": null,
      "object_fit": null,
      "object_position": null,
      "order": null,
      "overflow": null,
      "overflow_x": null,
      "overflow_y": null,
      "padding": null,
      "right": null,
      "top": null,
      "visibility": null,
      "width": null
     }
    },
    "886aa824c8d349f0b1c5e9ba407a11bb": {
     "model_module": "@jupyter-widgets/controls",
     "model_name": "HBoxModel",
     "state": {
      "_dom_classes": [],
      "_model_module": "@jupyter-widgets/controls",
      "_model_module_version": "1.5.0",
      "_model_name": "HBoxModel",
      "_view_count": null,
      "_view_module": "@jupyter-widgets/controls",
      "_view_module_version": "1.5.0",
      "_view_name": "HBoxView",
      "box_style": "",
      "children": [
       "IPY_MODEL_d499286aa96a489f9f05d2c660e216d4",
       "IPY_MODEL_198195fe79284367a20fd206742719b9"
      ],
      "layout": "IPY_MODEL_ddc59cc4a4834660a4f166a261596a8c"
     }
    },
    "891acbbfc30841d09a79513dfc9100a7": {
     "model_module": "@jupyter-widgets/base",
     "model_name": "LayoutModel",
     "state": {
      "_model_module": "@jupyter-widgets/base",
      "_model_module_version": "1.2.0",
      "_model_name": "LayoutModel",
      "_view_count": null,
      "_view_module": "@jupyter-widgets/base",
      "_view_module_version": "1.2.0",
      "_view_name": "LayoutView",
      "align_content": null,
      "align_items": null,
      "align_self": null,
      "border": null,
      "bottom": null,
      "display": null,
      "flex": null,
      "flex_flow": null,
      "grid_area": null,
      "grid_auto_columns": null,
      "grid_auto_flow": null,
      "grid_auto_rows": null,
      "grid_column": null,
      "grid_gap": null,
      "grid_row": null,
      "grid_template_areas": null,
      "grid_template_columns": null,
      "grid_template_rows": null,
      "height": null,
      "justify_content": null,
      "justify_items": null,
      "left": null,
      "margin": null,
      "max_height": null,
      "max_width": null,
      "min_height": null,
      "min_width": null,
      "object_fit": null,
      "object_position": null,
      "order": null,
      "overflow": null,
      "overflow_x": null,
      "overflow_y": null,
      "padding": null,
      "right": null,
      "top": null,
      "visibility": null,
      "width": null
     }
    },
    "914ec57ab14940a7b11d9ddf76282e88": {
     "model_module": "@jupyter-widgets/controls",
     "model_name": "ProgressStyleModel",
     "state": {
      "_model_module": "@jupyter-widgets/controls",
      "_model_module_version": "1.5.0",
      "_model_name": "ProgressStyleModel",
      "_view_count": null,
      "_view_module": "@jupyter-widgets/base",
      "_view_module_version": "1.2.0",
      "_view_name": "StyleView",
      "bar_color": null,
      "description_width": "initial"
     }
    },
    "9168e86bb84246bfad6500b7909d1ef8": {
     "model_module": "@jupyter-widgets/controls",
     "model_name": "FloatProgressModel",
     "state": {
      "_dom_classes": [],
      "_model_module": "@jupyter-widgets/controls",
      "_model_module_version": "1.5.0",
      "_model_name": "FloatProgressModel",
      "_view_count": null,
      "_view_module": "@jupyter-widgets/controls",
      "_view_module_version": "1.5.0",
      "_view_name": "ProgressView",
      "bar_style": "success",
      "description": "Downloading: 100%",
      "description_tooltip": null,
      "layout": "IPY_MODEL_da7d103d439d4b67aafde0a958b1bf72",
      "max": 1713123,
      "min": 0,
      "orientation": "horizontal",
      "style": "IPY_MODEL_d38b8c9c7b414d2ead73cdfc18afb730",
      "value": 1713123
     }
    },
    "9676a6c0f05048878aee5d7f10f7abec": {
     "model_module": "@jupyter-widgets/controls",
     "model_name": "FloatProgressModel",
     "state": {
      "_dom_classes": [],
      "_model_module": "@jupyter-widgets/controls",
      "_model_module_version": "1.5.0",
      "_model_name": "FloatProgressModel",
      "_view_count": null,
      "_view_module": "@jupyter-widgets/controls",
      "_view_module_version": "1.5.0",
      "_view_name": "ProgressView",
      "bar_style": "success",
      "description": "Downloading: 100%",
      "description_tooltip": null,
      "layout": "IPY_MODEL_e4e1c82b4d814535a5366ff6b125fac6",
      "max": 1270925,
      "min": 0,
      "orientation": "horizontal",
      "style": "IPY_MODEL_914ec57ab14940a7b11d9ddf76282e88",
      "value": 1270925
     }
    },
    "9c5ce918b01141199afa3ec9dc057f06": {
     "model_module": "@jupyter-widgets/controls",
     "model_name": "HBoxModel",
     "state": {
      "_dom_classes": [],
      "_model_module": "@jupyter-widgets/controls",
      "_model_module_version": "1.5.0",
      "_model_name": "HBoxModel",
      "_view_count": null,
      "_view_module": "@jupyter-widgets/controls",
      "_view_module_version": "1.5.0",
      "_view_name": "HBoxView",
      "box_style": "",
      "children": [
       "IPY_MODEL_9676a6c0f05048878aee5d7f10f7abec",
       "IPY_MODEL_362dd7ae18b94aefa19126c96d0ab225"
      ],
      "layout": "IPY_MODEL_cac18c25d30e47c3b81eca3d9878ded9"
     }
    },
    "a6600b1cf9bc4455bfb7bbdc99346957": {
     "model_module": "@jupyter-widgets/base",
     "model_name": "LayoutModel",
     "state": {
      "_model_module": "@jupyter-widgets/base",
      "_model_module_version": "1.2.0",
      "_model_name": "LayoutModel",
      "_view_count": null,
      "_view_module": "@jupyter-widgets/base",
      "_view_module_version": "1.2.0",
      "_view_name": "LayoutView",
      "align_content": null,
      "align_items": null,
      "align_self": null,
      "border": null,
      "bottom": null,
      "display": null,
      "flex": null,
      "flex_flow": null,
      "grid_area": null,
      "grid_auto_columns": null,
      "grid_auto_flow": null,
      "grid_auto_rows": null,
      "grid_column": null,
      "grid_gap": null,
      "grid_row": null,
      "grid_template_areas": null,
      "grid_template_columns": null,
      "grid_template_rows": null,
      "height": null,
      "justify_content": null,
      "justify_items": null,
      "left": null,
      "margin": null,
      "max_height": null,
      "max_width": null,
      "min_height": null,
      "min_width": null,
      "object_fit": null,
      "object_position": null,
      "order": null,
      "overflow": null,
      "overflow_x": null,
      "overflow_y": null,
      "padding": null,
      "right": null,
      "top": null,
      "visibility": null,
      "width": null
     }
    },
    "af7643f05e124c26a31234a0d98ff372": {
     "model_module": "@jupyter-widgets/controls",
     "model_name": "DescriptionStyleModel",
     "state": {
      "_model_module": "@jupyter-widgets/controls",
      "_model_module_version": "1.5.0",
      "_model_name": "DescriptionStyleModel",
      "_view_count": null,
      "_view_module": "@jupyter-widgets/base",
      "_view_module_version": "1.2.0",
      "_view_name": "StyleView",
      "description_width": ""
     }
    },
    "c146c9842b154b4f83c4ba5ff63940b4": {
     "model_module": "@jupyter-widgets/controls",
     "model_name": "DescriptionStyleModel",
     "state": {
      "_model_module": "@jupyter-widgets/controls",
      "_model_module_version": "1.5.0",
      "_model_name": "DescriptionStyleModel",
      "_view_count": null,
      "_view_module": "@jupyter-widgets/base",
      "_view_module_version": "1.2.0",
      "_view_name": "StyleView",
      "description_width": ""
     }
    },
    "cac18c25d30e47c3b81eca3d9878ded9": {
     "model_module": "@jupyter-widgets/base",
     "model_name": "LayoutModel",
     "state": {
      "_model_module": "@jupyter-widgets/base",
      "_model_module_version": "1.2.0",
      "_model_name": "LayoutModel",
      "_view_count": null,
      "_view_module": "@jupyter-widgets/base",
      "_view_module_version": "1.2.0",
      "_view_name": "LayoutView",
      "align_content": null,
      "align_items": null,
      "align_self": null,
      "border": null,
      "bottom": null,
      "display": null,
      "flex": null,
      "flex_flow": null,
      "grid_area": null,
      "grid_auto_columns": null,
      "grid_auto_flow": null,
      "grid_auto_rows": null,
      "grid_column": null,
      "grid_gap": null,
      "grid_row": null,
      "grid_template_areas": null,
      "grid_template_columns": null,
      "grid_template_rows": null,
      "height": null,
      "justify_content": null,
      "justify_items": null,
      "left": null,
      "margin": null,
      "max_height": null,
      "max_width": null,
      "min_height": null,
      "min_width": null,
      "object_fit": null,
      "object_position": null,
      "order": null,
      "overflow": null,
      "overflow_x": null,
      "overflow_y": null,
      "padding": null,
      "right": null,
      "top": null,
      "visibility": null,
      "width": null
     }
    },
    "d38b8c9c7b414d2ead73cdfc18afb730": {
     "model_module": "@jupyter-widgets/controls",
     "model_name": "ProgressStyleModel",
     "state": {
      "_model_module": "@jupyter-widgets/controls",
      "_model_module_version": "1.5.0",
      "_model_name": "ProgressStyleModel",
      "_view_count": null,
      "_view_module": "@jupyter-widgets/base",
      "_view_module_version": "1.2.0",
      "_view_name": "StyleView",
      "bar_color": null,
      "description_width": "initial"
     }
    },
    "d499286aa96a489f9f05d2c660e216d4": {
     "model_module": "@jupyter-widgets/controls",
     "model_name": "FloatProgressModel",
     "state": {
      "_dom_classes": [],
      "_model_module": "@jupyter-widgets/controls",
      "_model_module_version": "1.5.0",
      "_model_name": "FloatProgressModel",
      "_view_count": null,
      "_view_module": "@jupyter-widgets/controls",
      "_view_module_version": "1.5.0",
      "_view_name": "ProgressView",
      "bar_style": "success",
      "description": "Downloading: 100%",
      "description_tooltip": null,
      "layout": "IPY_MODEL_a6600b1cf9bc4455bfb7bbdc99346957",
      "max": 3141928084,
      "min": 0,
      "orientation": "horizontal",
      "style": "IPY_MODEL_f5ff72b233994b90b857f52afa3f4d9c",
      "value": 3141928084
     }
    },
    "d7dfe14b6bca4272a4cf9d10b09c5d27": {
     "model_module": "@jupyter-widgets/controls",
     "model_name": "HTMLModel",
     "state": {
      "_dom_classes": [],
      "_model_module": "@jupyter-widgets/controls",
      "_model_module_version": "1.5.0",
      "_model_name": "HTMLModel",
      "_view_count": null,
      "_view_module": "@jupyter-widgets/controls",
      "_view_module_version": "1.5.0",
      "_view_name": "HTMLView",
      "description": "",
      "description_tooltip": null,
      "layout": "IPY_MODEL_ff1553cae3b84bf59535e808c73a3904",
      "placeholder": "​",
      "style": "IPY_MODEL_c146c9842b154b4f83c4ba5ff63940b4",
      "value": " 609/609 [01:55&lt;00:00, 5.25B/s]"
     }
    },
    "da7d103d439d4b67aafde0a958b1bf72": {
     "model_module": "@jupyter-widgets/base",
     "model_name": "LayoutModel",
     "state": {
      "_model_module": "@jupyter-widgets/base",
      "_model_module_version": "1.2.0",
      "_model_name": "LayoutModel",
      "_view_count": null,
      "_view_module": "@jupyter-widgets/base",
      "_view_module_version": "1.2.0",
      "_view_name": "LayoutView",
      "align_content": null,
      "align_items": null,
      "align_self": null,
      "border": null,
      "bottom": null,
      "display": null,
      "flex": null,
      "flex_flow": null,
      "grid_area": null,
      "grid_auto_columns": null,
      "grid_auto_flow": null,
      "grid_auto_rows": null,
      "grid_column": null,
      "grid_gap": null,
      "grid_row": null,
      "grid_template_areas": null,
      "grid_template_columns": null,
      "grid_template_rows": null,
      "height": null,
      "justify_content": null,
      "justify_items": null,
      "left": null,
      "margin": null,
      "max_height": null,
      "max_width": null,
      "min_height": null,
      "min_width": null,
      "object_fit": null,
      "object_position": null,
      "order": null,
      "overflow": null,
      "overflow_x": null,
      "overflow_y": null,
      "padding": null,
      "right": null,
      "top": null,
      "visibility": null,
      "width": null
     }
    },
    "ddc59cc4a4834660a4f166a261596a8c": {
     "model_module": "@jupyter-widgets/base",
     "model_name": "LayoutModel",
     "state": {
      "_model_module": "@jupyter-widgets/base",
      "_model_module_version": "1.2.0",
      "_model_name": "LayoutModel",
      "_view_count": null,
      "_view_module": "@jupyter-widgets/base",
      "_view_module_version": "1.2.0",
      "_view_name": "LayoutView",
      "align_content": null,
      "align_items": null,
      "align_self": null,
      "border": null,
      "bottom": null,
      "display": null,
      "flex": null,
      "flex_flow": null,
      "grid_area": null,
      "grid_auto_columns": null,
      "grid_auto_flow": null,
      "grid_auto_rows": null,
      "grid_column": null,
      "grid_gap": null,
      "grid_row": null,
      "grid_template_areas": null,
      "grid_template_columns": null,
      "grid_template_rows": null,
      "height": null,
      "justify_content": null,
      "justify_items": null,
      "left": null,
      "margin": null,
      "max_height": null,
      "max_width": null,
      "min_height": null,
      "min_width": null,
      "object_fit": null,
      "object_position": null,
      "order": null,
      "overflow": null,
      "overflow_x": null,
      "overflow_y": null,
      "padding": null,
      "right": null,
      "top": null,
      "visibility": null,
      "width": null
     }
    },
    "e0895aab64ef4eaca7de82646a4a3f36": {
     "model_module": "@jupyter-widgets/controls",
     "model_name": "HTMLModel",
     "state": {
      "_dom_classes": [],
      "_model_module": "@jupyter-widgets/controls",
      "_model_module_version": "1.5.0",
      "_model_name": "HTMLModel",
      "_view_count": null,
      "_view_module": "@jupyter-widgets/controls",
      "_view_module_version": "1.5.0",
      "_view_name": "HTMLView",
      "description": "",
      "description_tooltip": null,
      "layout": "IPY_MODEL_5af6edad62c24dd088e0694ad7a58dd9",
      "placeholder": "​",
      "style": "IPY_MODEL_4339669b85d34bba9ea9f86fbc3d4679",
      "value": " 1.71M/1.71M [00:02&lt;00:00, 632kB/s]"
     }
    },
    "e4e1c82b4d814535a5366ff6b125fac6": {
     "model_module": "@jupyter-widgets/base",
     "model_name": "LayoutModel",
     "state": {
      "_model_module": "@jupyter-widgets/base",
      "_model_module_version": "1.2.0",
      "_model_name": "LayoutModel",
      "_view_count": null,
      "_view_module": "@jupyter-widgets/base",
      "_view_module_version": "1.2.0",
      "_view_name": "LayoutView",
      "align_content": null,
      "align_items": null,
      "align_self": null,
      "border": null,
      "bottom": null,
      "display": null,
      "flex": null,
      "flex_flow": null,
      "grid_area": null,
      "grid_auto_columns": null,
      "grid_auto_flow": null,
      "grid_auto_rows": null,
      "grid_column": null,
      "grid_gap": null,
      "grid_row": null,
      "grid_template_areas": null,
      "grid_template_columns": null,
      "grid_template_rows": null,
      "height": null,
      "justify_content": null,
      "justify_items": null,
      "left": null,
      "margin": null,
      "max_height": null,
      "max_width": null,
      "min_height": null,
      "min_width": null,
      "object_fit": null,
      "object_position": null,
      "order": null,
      "overflow": null,
      "overflow_x": null,
      "overflow_y": null,
      "padding": null,
      "right": null,
      "top": null,
      "visibility": null,
      "width": null
     }
    },
    "f5ff72b233994b90b857f52afa3f4d9c": {
     "model_module": "@jupyter-widgets/controls",
     "model_name": "ProgressStyleModel",
     "state": {
      "_model_module": "@jupyter-widgets/controls",
      "_model_module_version": "1.5.0",
      "_model_name": "ProgressStyleModel",
      "_view_count": null,
      "_view_module": "@jupyter-widgets/base",
      "_view_module_version": "1.2.0",
      "_view_name": "StyleView",
      "bar_color": null,
      "description_width": "initial"
     }
    },
    "ff1553cae3b84bf59535e808c73a3904": {
     "model_module": "@jupyter-widgets/base",
     "model_name": "LayoutModel",
     "state": {
      "_model_module": "@jupyter-widgets/base",
      "_model_module_version": "1.2.0",
      "_model_name": "LayoutModel",
      "_view_count": null,
      "_view_module": "@jupyter-widgets/base",
      "_view_module_version": "1.2.0",
      "_view_name": "LayoutView",
      "align_content": null,
      "align_items": null,
      "align_self": null,
      "border": null,
      "bottom": null,
      "display": null,
      "flex": null,
      "flex_flow": null,
      "grid_area": null,
      "grid_auto_columns": null,
      "grid_auto_flow": null,
      "grid_auto_rows": null,
      "grid_column": null,
      "grid_gap": null,
      "grid_row": null,
      "grid_template_areas": null,
      "grid_template_columns": null,
      "grid_template_rows": null,
      "height": null,
      "justify_content": null,
      "justify_items": null,
      "left": null,
      "margin": null,
      "max_height": null,
      "max_width": null,
      "min_height": null,
      "min_width": null,
      "object_fit": null,
      "object_position": null,
      "order": null,
      "overflow": null,
      "overflow_x": null,
      "overflow_y": null,
      "padding": null,
      "right": null,
      "top": null,
      "visibility": null,
      "width": null
     }
    }
   }
  }
 },
 "nbformat": 4,
 "nbformat_minor": 1
}
